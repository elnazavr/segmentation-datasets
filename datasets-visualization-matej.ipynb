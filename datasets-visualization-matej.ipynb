{
 "cells": [
  {
   "cell_type": "code",
   "execution_count": 5,
   "metadata": {},
   "outputs": [],
   "source": [
    "from __future__ import  division\n",
    "%matplotlib inline\n",
    "from data_tools import draw_all_datasets, draw_bar_chart\n",
    "from data_tools import get_dict_from_file, get_names_from_files\n",
    "import itertools"
   ]
  },
  {
   "cell_type": "code",
   "execution_count": 6,
   "metadata": {},
   "outputs": [],
   "source": [
    "PATH = \"datasets/\"\n",
    "dataset_filenames = {\"coco\":PATH+\"coco.txt\", \n",
    "                     \"voc\":PATH+\"pascal_voc.txt\", \n",
    "                     \"voc_contex\":PATH+\"pascal_voc_context.txt\", \n",
    "                     \"cocostuff\":PATH+\"cocostuff.txt\",\n",
    "                     \"citiscapes\":PATH+\"citiscraper.txt\",\n",
    "                     \"ade20k\":PATH+\"ade20k.txt\",\n",
    "                    \"lsvrc_bb\":PATH+\"LSVRC_bb_2015.txt\"}\n",
    "total_number_of_pictures = {\"coco\":82783, \n",
    "                            \"voc\":2913, \n",
    "                            \"voc_contex\": 10103, \n",
    "                            \"cocostuff\":82783,\n",
    "                            \"citiscapes\":5000,\n",
    "                            \"ade20k\": 22210,\n",
    "                           \"lsvrc_bb\":534309}"
   ]
  },
  {
   "cell_type": "code",
   "execution_count": 7,
   "metadata": {},
   "outputs": [
    {
     "data": {
      "text/html": [
       "\n",
       "    <!DOCTYPE html>\n",
       "    <meta charset=\"utf-8\">\n",
       "    <style>\n",
       "\n",
       "    .node {\n",
       "      cursor: pointer;\n",
       "    }\n",
       "\n",
       "    .node:hover {\n",
       "      stroke: #000;\n",
       "      stroke-width: 1.5px;\n",
       "    }\n",
       "\n",
       "    .node--leaf {\n",
       "      fill: white;\n",
       "    }\n",
       "\n",
       "    .label {\n",
       "      font: 11px \"Helvetica Neue\", Helvetica, Arial, sans-serif;\n",
       "      text-anchor: middle;\n",
       "      text-shadow: 0 1px 0 #fff, 1px 0 0 #fff, -1px 0 0 #fff, 0 -1px 0 #fff;\n",
       "    }\n",
       "\n",
       "    .label,\n",
       "    .node--root,\n",
       "    .node--leaf {\n",
       "      pointer-events: none;\n",
       "    }\n",
       "\n",
       "    </style>\n",
       "    <svg width=\"760\" height=\"760\"></svg>\n",
       "    "
      ],
      "text/plain": [
       "<IPython.core.display.HTML object>"
      ]
     },
     "metadata": {},
     "output_type": "display_data"
    },
    {
     "data": {
      "application/javascript": [
       "\n",
       "     require.config({\n",
       "        paths: {\n",
       "            d3: \"https://d3js.org/d3.v4.min\"\n",
       "         }\n",
       "     });\n",
       "\n",
       "      require([\"d3\"], function(d3) {\n",
       "\n",
       "       console.log(d3);\n",
       "\n",
       "    var svg = d3.select(\"svg\"),\n",
       "        margin = 40,\n",
       "        diameter = +svg.attr(\"width\"),\n",
       "        g = svg.append(\"g\").attr(\"transform\", \"translate(\" + diameter / 2 + \",\" + diameter / 2 + \")\");\n",
       "\n",
       "    var color = d3.scaleSequential(d3.interpolateViridis)\n",
       "        .domain([-4, 4]);\n",
       "\n",
       "    var pack = d3.pack()\n",
       "        .size([diameter - margin, diameter - margin])\n",
       "        .padding(2);\n",
       "\n",
       "    d3.json(\"output.json\", function(error, root) {\n",
       "      if (error) throw error;\n",
       "\n",
       "      root = d3.hierarchy(root)\n",
       "          .sum(function(d) { return d.size; })\n",
       "          .sort(function(a, b) { return b.value - a.value; });\n",
       "\n",
       "      var focus = root,\n",
       "          nodes = pack(root).descendants(),\n",
       "          view;\n",
       "\n",
       "      var circle = g.selectAll(\"circle\")\n",
       "        .data(nodes)\n",
       "        .enter().append(\"circle\")\n",
       "          .attr(\"class\", function(d) { return d.parent ? d.children ? \"node\" : \"node node--leaf\" : \"node node--root\"; })\n",
       "          .style(\"fill\", function(d) { return d.children ? color(d.depth) : null; })\n",
       "          .on(\"click\", function(d) { if (focus !== d) zoom(d), d3.event.stopPropagation(); });\n",
       "\n",
       "      var text = g.selectAll(\"text\")\n",
       "        .data(nodes)\n",
       "        .enter().append(\"text\")\n",
       "          .attr(\"class\", \"label\")\n",
       "          .style(\"fill-opacity\", function(d) { return d.parent === root ? 1 : 0; })\n",
       "          .style(\"display\", function(d) { return d.parent === root ? \"inline\" : \"none\"; })\n",
       "          .text(function(d) { return d.data.name; });\n",
       "\n",
       "      var node = g.selectAll(\"circle, text\");\n",
       "\n",
       "      svg\n",
       "          .style(\"background\", color(-1))\n",
       "          .on(\"click\", function() { zoom(root); });\n",
       "\n",
       "      zoomTo([root.x, root.y, root.r * 2 + margin]);\n",
       "\n",
       "      function zoom(d) {\n",
       "        var focus0 = focus; focus = d;\n",
       "\n",
       "        var transition = d3.transition()\n",
       "            .duration(d3.event.altKey ? 7500 : 750)\n",
       "            .tween(\"zoom\", function(d) {\n",
       "              var i = d3.interpolateZoom(view, [focus.x, focus.y, focus.r * 2 + margin]);\n",
       "              return function(t) { zoomTo(i(t)); };\n",
       "            });\n",
       "\n",
       "        transition.selectAll(\"text\")\n",
       "          .filter(function(d) { return d.parent === focus || this.style.display === \"inline\"; })\n",
       "            .style(\"fill-opacity\", function(d) { return d.parent === focus ? 1 : 0; })\n",
       "            .on(\"start\", function(d) { if (d.parent === focus) this.style.display = \"inline\"; })\n",
       "            .on(\"end\", function(d) { if (d.parent !== focus) this.style.display = \"none\"; });\n",
       "      }\n",
       "\n",
       "      function zoomTo(v) {\n",
       "        var k = diameter / v[2]; view = v;\n",
       "        node.attr(\"transform\", function(d) { return \"translate(\" + (d.x - v[0]) * k + \",\" + (d.y - v[1]) * k + \")\"; });\n",
       "        circle.attr(\"r\", function(d) { return d.r * k; });\n",
       "      }\n",
       "    });\n",
       "      });\n",
       "     "
      ]
     },
     "metadata": {},
     "output_type": "display_data"
    }
   ],
   "source": [
    "draw_all_datasets(dataset_filenames)"
   ]
  },
  {
   "cell_type": "code",
   "execution_count": 8,
   "metadata": {},
   "outputs": [],
   "source": [
    "all_objects = {}\n",
    "for name in dataset_filenames.keys():\n",
    "    filename = dataset_filenames[name]\n",
    "    all_objects[name]=get_dict_from_file(filename)"
   ]
  },
  {
   "cell_type": "code",
   "execution_count": 9,
   "metadata": {},
   "outputs": [],
   "source": [
    "total_number_labels = {}\n",
    "total_number_appearance = {}\n",
    "for name in dataset_filenames.keys():\n",
    "    total_number_labels[name] = len(all_objects[name].keys())\n",
    "    total_number_appearance[name] = sum(all_objects[name].values())\n"
   ]
  },
  {
   "cell_type": "code",
   "execution_count": 10,
   "metadata": {},
   "outputs": [
    {
     "data": {
      "image/png": "[encoded data removed]",
      "text/plain": [
       "<matplotlib.figure.Figure at 0x1b1cbd078d0>"
      ]
     },
     "metadata": {},
     "output_type": "display_data"
    }
   ],
   "source": [
    "draw_bar_chart(total_number_labels.keys(), total_number_of_pictures.values(), \"Number of Pictures\", \"Dataset\", \"Number of picures per dataset\")"
   ]
  },
  {
   "cell_type": "code",
   "execution_count": 11,
   "metadata": {},
   "outputs": [
    {
     "data": {
      "image/png": "[encoded data removed]",
      "text/plain": [
       "<matplotlib.figure.Figure at 0x1b1c16f3470>"
      ]
     },
     "metadata": {},
     "output_type": "display_data"
    }
   ],
   "source": [
    "draw_bar_chart(total_number_labels.keys(), total_number_labels.values(), \"Number of Unique Labels\", \"Dataset\", \"Number of unique labels per dataset\")"
   ]
  },
  {
   "cell_type": "code",
   "execution_count": 12,
   "metadata": {},
   "outputs": [
    {
     "data": {
      "image/png": "[encoded data removed]",
      "text/plain": [
       "<matplotlib.figure.Figure at 0x1b1cba63a90>"
      ]
     },
     "metadata": {},
     "output_type": "display_data"
    }
   ],
   "source": [
    "draw_bar_chart(total_number_labels.keys(), total_number_appearance.values(), \"Number of Used labels\", \"Dataset\", \"Number of labels per dataset\")"
   ]
  },
  {
   "cell_type": "code",
   "execution_count": 13,
   "metadata": {},
   "outputs": [
    {
     "name": "stdout",
     "output_type": "stream",
     "text": [
      "Intresection between datasets\n",
      "|  dataset  |   coco    |    voc    |voc_contex | cocostuff |citiscapes |  ade20k   | lsvrc_bb  |\n",
      "|   coco    |    80     |    14     |    41     |     0     |     8     |    59     |    28     |\n",
      "|    voc    |    14     |    20     |    19     |     0     |     5     |    16     |    11     |\n",
      "|voc_contex |    41     |    19     |    460    |    33     |    15     |    326    |    56     |\n",
      "| cocostuff |     0     |     0     |    33     |    92     |     3     |    52     |     1     |\n",
      "|citiscapes |     8     |     5     |    15     |     3     |    40     |    23     |     7     |\n",
      "|  ade20k   |    59     |    16     |    326    |    52     |    23     |   3040    |    96     |\n",
      "| lsvrc_bb  |    28     |    11     |    56     |     1     |     7     |    96     |    201    |\n"
     ]
    }
   ],
   "source": [
    "matrix = {}\n",
    "for d1 in all_objects.keys():\n",
    "    for d2 in all_objects.keys():\n",
    "        matrix[(d1,d2)] = len(set(get_names_from_files(dataset_filenames[d1])).intersection(set(get_names_from_files(dataset_filenames[d2]))))\n",
    "print(\"Intresection between datasets\")\n",
    "\n",
    "def get_alligned_str(total_len, string):\n",
    "    spaces = total_len-len(string)\n",
    "    before = spaces//2\n",
    "    if (spaces%2==1):\n",
    "        after = before+1\n",
    "    else:\n",
    "        after = before\n",
    "    curr = ' '*before+ string+' '*after+\"|\"\n",
    "    return curr\n",
    "\n",
    "head = \"|  dataset  |\"\n",
    "for d1 in all_objects.keys():\n",
    "    head =head+get_alligned_str(11, d1)\n",
    "print(head)\n",
    "for d1 in all_objects.keys():\n",
    "    line = '|'+ get_alligned_str(11, d1)\n",
    "    for d2 in all_objects.keys():\n",
    "        value = matrix[(d1,d2)]       \n",
    "        line = line+get_alligned_str(11, str(round(value,3)))\n",
    "    print(line)  "
   ]
  },
  {
   "cell_type": "markdown",
   "metadata": {},
   "source": [
    "The matrix above shows the intersection among datasets. TODO: how many images per one intersection.\n",
    "\n",
    "I would suggest using voc_context, coco, cocostuff and part of ade20k. \n",
    "Coco and cocostuff may be used as exclusive datasets.\n",
    "Voc and Voc_context as subset one of the other.\n",
    "Voc_context has a large intersection with coco, ade20k, cocostuff.\n",
    "Ade20K and Voc_context intresects 326/460(for voc_context) labels. "
   ]
  },
  {
   "cell_type": "code",
   "execution_count": 14,
   "metadata": {},
   "outputs": [],
   "source": [
    "unique_set= []\n",
    "for d1 in all_objects.keys():\n",
    "    unique_set.extend(all_objects[d1].keys())\n",
    "unique_set = set(unique_set)"
   ]
  },
  {
   "cell_type": "markdown",
   "metadata": {},
   "source": [
    "# Conclusion:\n",
    "### Total number of uniquie labels through all 6 datasets: 3249\n",
    "### Total number of pictures: 205792\n",
    "### Total number of occurrence: 2 156 273\n"
   ]
  },
  {
   "cell_type": "code",
   "execution_count": null,
   "metadata": {},
   "outputs": [],
   "source": []
  }
 ],
 "metadata": {
  "kernelspec": {
   "display_name": "Python 3",
   "language": "python",
   "name": "python3"
  },
  "language_info": {
   "codemirror_mode": {
    "name": "ipython",
    "version": 3
   },
   "file_extension": ".py",
   "mimetype": "text/x-python",
   "name": "python",
   "nbconvert_exporter": "python",
   "pygments_lexer": "ipython3",
   "version": "3.6.3"
  }
 },
 "nbformat": 4,
 "nbformat_minor": 2
}
